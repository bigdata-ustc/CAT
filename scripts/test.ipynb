{
 "cells": [
  {
   "cell_type": "code",
   "execution_count": 1,
   "metadata": {},
   "outputs": [],
   "source": [
    "import sys\n",
    "sys.path.append('..')"
   ]
  },
  {
   "cell_type": "code",
   "execution_count": 2,
   "metadata": {},
   "outputs": [],
   "source": [
    "import CAT\n",
    "import json\n",
    "import torch\n",
    "import logging\n",
    "import datetime\n",
    "import numpy as np\n",
    "import pandas as pd\n",
    "import matplotlib.pyplot as plt\n",
    "from tensorboardX import SummaryWriter"
   ]
  },
  {
   "cell_type": "code",
   "execution_count": 3,
   "metadata": {},
   "outputs": [],
   "source": [
    "def setuplogger():\n",
    "    root = logging.getLogger()\n",
    "    root.setLevel(logging.INFO)\n",
    "    handler = logging.StreamHandler(sys.stdout)\n",
    "    handler.setLevel(logging.INFO)\n",
    "    formatter = logging.Formatter(\"[%(levelname)s %(asctime)s] %(message)s\")\n",
    "    handler.setFormatter(formatter)\n",
    "    root.addHandler(handler)"
   ]
  },
  {
   "cell_type": "code",
   "execution_count": 4,
   "metadata": {},
   "outputs": [],
   "source": [
    "setuplogger()"
   ]
  },
  {
   "cell_type": "code",
   "execution_count": 5,
   "metadata": {},
   "outputs": [
    {
     "data": {
      "text/plain": [
       "<torch._C.Generator at 0x1110dda50>"
      ]
     },
     "execution_count": 5,
     "metadata": {},
     "output_type": "execute_result"
    }
   ],
   "source": [
    "seed = 0\n",
    "np.random.seed(seed)\n",
    "torch.manual_seed(seed)"
   ]
  },
  {
   "cell_type": "code",
   "execution_count": 6,
   "metadata": {},
   "outputs": [
    {
     "name": "stdout",
     "output_type": "stream",
     "text": [
      "../logs/2021-03-01-21:19/\n"
     ]
    }
   ],
   "source": [
    "# tensorboard\n",
    "log_dir = f\"../logs/{datetime.datetime.now().strftime('%Y-%m-%d-%H:%M')}/\"\n",
    "print(log_dir)\n",
    "writer = SummaryWriter(log_dir)"
   ]
  },
  {
   "cell_type": "code",
   "execution_count": 7,
   "metadata": {},
   "outputs": [],
   "source": [
    "# choose dataset here\n",
    "dataset = 'assistment'\n",
    "# modify config here\n",
    "config = {\n",
    "    'learning_rate': 0.0025,\n",
    "    'batch_size': 2048,\n",
    "    'num_epochs': 8,\n",
    "    'num_dim': 1,\n",
    "    'device': 'cpu',\n",
    "}\n",
    "# fixed test length\n",
    "test_length = 10\n",
    "# choose strategies here\n",
    "strategies = [CAT.strategy.MFIStrategy(), CAT.strategy.KLIStrategy()]\n",
    "# modify checkpoint path here\n",
    "ckpt_path = '../ckpt/checkpoint.pt'"
   ]
  },
  {
   "cell_type": "code",
   "execution_count": 8,
   "metadata": {},
   "outputs": [],
   "source": [
    "# read datasets\n",
    "test_triplets = pd.read_csv(f'../data/{dataset}/test_triples.csv', encoding='utf-8').to_records(index=False)\n",
    "concept_map = json.load(open(f'../data/{dataset}/concept_map.json', 'r'))\n",
    "concept_map = {int(k):v for k,v in concept_map.items()}\n",
    "metadata = json.load(open(f'../data/{dataset}/metadata.json', 'r'))"
   ]
  },
  {
   "cell_type": "code",
   "execution_count": 9,
   "metadata": {},
   "outputs": [],
   "source": [
    "test_data = CAT.dataset.AdapTestDataset(test_triplets, concept_map,\n",
    "                                        metadata['num_test_students'], \n",
    "                                        metadata['num_questions'], \n",
    "                                        metadata['num_concepts'])"
   ]
  },
  {
   "cell_type": "code",
   "execution_count": 10,
   "metadata": {},
   "outputs": [],
   "source": [
    "import warnings\n",
    "warnings.filterwarnings(\"ignore\")"
   ]
  },
  {
   "cell_type": "code",
   "execution_count": 11,
   "metadata": {},
   "outputs": [
    {
     "name": "stdout",
     "output_type": "stream",
     "text": [
      "[INFO 2021-03-01 21:20:10,230] -----------\n",
      "[INFO 2021-03-01 21:20:10,231] start adaptive testing with Maximum Fisher Information Strategy strategy\n",
      "[INFO 2021-03-01 21:20:10,231] Iteration 0\n",
      "[INFO 2021-03-01 21:20:10,260] auc:0.6484533447389293\n",
      "[INFO 2021-03-01 21:20:10,262] cov:0.0\n",
      "[INFO 2021-03-01 21:20:10,262] Iteration 1\n",
      "[INFO 2021-03-01 21:20:11,768] auc:0.6492874695641851\n",
      "[INFO 2021-03-01 21:20:11,770] cov:0.0503951833541452\n",
      "[INFO 2021-03-01 21:20:11,773] Iteration 2\n",
      "[INFO 2021-03-01 21:20:13,255] auc:0.6504904035191303\n",
      "[INFO 2021-03-01 21:20:13,255] cov:0.09758199115948935\n",
      "[INFO 2021-03-01 21:20:13,256] Iteration 3\n",
      "[INFO 2021-03-01 21:20:14,841] auc:0.6521533779951826\n",
      "[INFO 2021-03-01 21:20:14,843] cov:0.13904934331124966\n",
      "[INFO 2021-03-01 21:20:14,845] Iteration 4\n",
      "[INFO 2021-03-01 21:20:16,413] auc:0.6533600336989795\n",
      "[INFO 2021-03-01 21:20:16,414] cov:0.1810611882609775\n",
      "[INFO 2021-03-01 21:20:16,415] Iteration 5\n",
      "[INFO 2021-03-01 21:20:17,927] auc:0.6548746560294985\n",
      "[INFO 2021-03-01 21:20:17,928] cov:0.2138639398207279\n",
      "[INFO 2021-03-01 21:20:17,929] Iteration 6\n",
      "[INFO 2021-03-01 21:20:19,460] auc:0.6557371632351279\n",
      "[INFO 2021-03-01 21:20:19,461] cov:0.24498131873469464\n",
      "[INFO 2021-03-01 21:20:19,462] Iteration 7\n",
      "[INFO 2021-03-01 21:20:20,909] auc:0.6569063425461397\n",
      "[INFO 2021-03-01 21:20:20,910] cov:0.2693855756697466\n",
      "[INFO 2021-03-01 21:20:20,911] Iteration 8\n",
      "[INFO 2021-03-01 21:20:22,342] auc:0.6578221516679326\n",
      "[INFO 2021-03-01 21:20:22,343] cov:0.2909745397361497\n",
      "[INFO 2021-03-01 21:20:22,344] Iteration 9\n",
      "[INFO 2021-03-01 21:20:23,781] auc:0.6591130483479124\n",
      "[INFO 2021-03-01 21:20:23,781] cov:0.313530251083772\n",
      "[INFO 2021-03-01 21:20:23,782] Iteration 10\n",
      "[INFO 2021-03-01 21:20:25,208] auc:0.6602825512892591\n",
      "[INFO 2021-03-01 21:20:25,209] cov:0.3378566690173305\n",
      "[INFO 2021-03-01 21:20:25,213] -----------\n",
      "[INFO 2021-03-01 21:20:25,214] start adaptive testing with KL Information Strategy strategy\n",
      "[INFO 2021-03-01 21:20:25,215] Iteration 0\n",
      "[INFO 2021-03-01 21:20:25,233] auc:0.6434585636017105\n",
      "[INFO 2021-03-01 21:20:25,233] cov:0.0\n",
      "[INFO 2021-03-01 21:20:25,233] Iteration 1\n",
      "[INFO 2021-03-01 21:20:31,442] auc:0.6445390034748836\n",
      "[INFO 2021-03-01 21:20:31,445] cov:0.0503951833541452\n",
      "[INFO 2021-03-01 21:20:31,448] Iteration 2\n",
      "[INFO 2021-03-01 21:21:31,010] auc:0.6466906273936509\n",
      "[INFO 2021-03-01 21:21:31,010] cov:0.09758821238631525\n",
      "[INFO 2021-03-01 21:21:31,011] Iteration 3\n",
      "[INFO 2021-03-01 21:22:13,886] auc:0.647910293036912\n",
      "[INFO 2021-03-01 21:22:13,887] cov:0.1480900453431908\n",
      "[INFO 2021-03-01 21:22:13,888] Iteration 4\n",
      "[INFO 2021-03-01 21:22:47,299] auc:0.6495854036505243\n",
      "[INFO 2021-03-01 21:22:47,300] cov:0.18953852469760513\n",
      "[INFO 2021-03-01 21:22:47,301] Iteration 5\n",
      "[INFO 2021-03-01 21:23:16,619] auc:0.6505211807639825\n",
      "[INFO 2021-03-01 21:23:16,620] cov:0.22356989488930729\n",
      "[INFO 2021-03-01 21:23:16,622] Iteration 6\n",
      "[INFO 2021-03-01 21:23:40,716] auc:0.6521429894614312\n",
      "[INFO 2021-03-01 21:23:40,717] cov:0.2498769584864044\n",
      "[INFO 2021-03-01 21:23:40,718] Iteration 7\n",
      "[INFO 2021-03-01 21:24:01,997] auc:0.6528805429947431\n",
      "[INFO 2021-03-01 21:24:01,997] cov:0.2755841655947051\n",
      "[INFO 2021-03-01 21:24:01,999] Iteration 8\n",
      "[INFO 2021-03-01 21:24:22,699] auc:0.653538321650494\n",
      "[INFO 2021-03-01 21:24:22,700] cov:0.3012489219787817\n",
      "[INFO 2021-03-01 21:24:22,701] Iteration 9\n",
      "[INFO 2021-03-01 21:24:42,715] auc:0.6544837753109667\n",
      "[INFO 2021-03-01 21:24:42,716] cov:0.3182659639579475\n",
      "[INFO 2021-03-01 21:24:42,717] Iteration 10\n",
      "[INFO 2021-03-01 21:25:01,542] auc:0.6558215983895119\n",
      "[INFO 2021-03-01 21:25:01,542] cov:0.3443018600089941\n"
     ]
    }
   ],
   "source": [
    "auc_history = {}\n",
    "cov_history = {}\n",
    "iters = {}\n",
    "for strategy in strategies:\n",
    "    model = CAT.model.IRTModel(**config)\n",
    "    model.init_model(test_data)\n",
    "    model.adaptest_load(ckpt_path)\n",
    "    test_data.reset()\n",
    "    auc_history[strategy.name] = []\n",
    "    cov_history[strategy.name] = []\n",
    "    iters[strategy.name] = []\n",
    "    \n",
    "    logging.info('-----------')\n",
    "    logging.info(f'start adaptive testing with {strategy.name} strategy')\n",
    "\n",
    "    logging.info(f'Iteration 0')\n",
    "    iters[strategy.name].append(0)\n",
    "    # evaluate models\n",
    "    results = model.evaluate(test_data)\n",
    "    auc_history[strategy.name].append(results['auc'])\n",
    "    cov_history[strategy.name].append(results['cov'])\n",
    "    for name, value in results.items():\n",
    "        logging.info(f'{name}:{value}')\n",
    "        \n",
    "    for it in range(1, test_length + 1):\n",
    "        logging.info(f'Iteration {it}')\n",
    "        # select question\n",
    "        selected_questions = strategy.adaptest_select(model, test_data)\n",
    "        for student, question in selected_questions.items():\n",
    "            test_data.apply_selection(student, question)\n",
    "        # update models\n",
    "        model.adaptest_update(test_data)\n",
    "        # evaluate models\n",
    "        results = model.evaluate(test_data)\n",
    "        # log results\n",
    "        iters[strategy.name].append(it)\n",
    "        auc_history[strategy.name].append(results['auc'])\n",
    "        cov_history[strategy.name].append(results['cov'])\n",
    "        for name, value in results.items():\n",
    "            logging.info(f'{name}:{value}')\n",
    "            writer.add_scalars(name, {strategy.name: value}, it)"
   ]
  },
  {
   "cell_type": "code",
   "execution_count": 12,
   "metadata": {},
   "outputs": [
    {
     "data": {
      "image/png": "[encoded data removed]",
      "text/plain": [
       "<Figure size 432x288 with 1 Axes>"
      ]
     },
     "metadata": {
      "needs_background": "light"
     },
     "output_type": "display_data"
    }
   ],
   "source": [
    "for strategy in strategies:\n",
    "    plt.plot(iters[strategy.name], auc_history[strategy.name], label=strategy.name)\n",
    "plt.title('AUC')\n",
    "plt.xlabel('iterations')\n",
    "plt.ylabel('AUC')\n",
    "plt.legend()\n",
    "plt.show()   "
   ]
  },
  {
   "cell_type": "code",
   "execution_count": 13,
   "metadata": {},
   "outputs": [
    {
     "data": {
      "image/png": "[encoded data removed]",
      "text/plain": [
       "<Figure size 432x288 with 1 Axes>"
      ]
     },
     "metadata": {
      "needs_background": "light"
     },
     "output_type": "display_data"
    }
   ],
   "source": [
    "for strategy in strategies:\n",
    "    plt.plot(iters[strategy.name], cov_history[strategy.name], label=strategy.name)\n",
    "plt.title('COV')\n",
    "plt.xlabel('iterations')\n",
    "plt.ylabel('COV')\n",
    "plt.legend()\n",
    "plt.show() "
   ]
  },
  {
   "cell_type": "code",
   "execution_count": null,
   "metadata": {},
   "outputs": [],
   "source": []
  }
 ],
 "metadata": {
  "kernelspec": {
   "display_name": "Python 3",
   "language": "python",
   "name": "python3"
  },
  "language_info": {
   "codemirror_mode": {
    "name": "ipython",
    "version": 3
   },
   "file_extension": ".py",
   "mimetype": "text/x-python",
   "name": "python",
   "nbconvert_exporter": "python",
   "pygments_lexer": "ipython3",
   "version": "3.7.9"
  }
 },
 "nbformat": 4,
 "nbformat_minor": 4
}
